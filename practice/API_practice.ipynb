{
 "cells": [
  {
   "cell_type": "code",
   "execution_count": 39,
   "id": "6f3072b2",
   "metadata": {},
   "outputs": [],
   "source": [
    "import pandas as pd\n",
    "import numpy as np\n",
    "import matplotlib.pyplot as plt\n",
    "from citipy import citipy\n",
    "import requests\n",
    "from config import weather_api_key\n",
    "from datetime import datetime\n",
    "import time"
   ]
  },
  {
   "cell_type": "code",
   "execution_count": null,
   "id": "476c272e",
   "metadata": {},
   "outputs": [],
   "source": [
    "city_data = []"
   ]
  },
  {
   "cell_type": "code",
   "execution_count": 6,
   "id": "bc6926eb",
   "metadata": {},
   "outputs": [
    {
     "data": {
      "text/plain": [
       "<zip at 0x7fb9bb9bdaa0>"
      ]
     },
     "execution_count": 6,
     "metadata": {},
     "output_type": "execute_result"
    }
   ],
   "source": [
    "# Create a set of random latitude and longitude combinations.\n",
    "lats = np.random.uniform(low=-90.000, high=90.000, size=1500)\n",
    "lngs = np.random.uniform(low=-180.000, high=180.000, size=1500)\n",
    "lat_lngs = zip(lats, lngs)\n",
    "lat_lngs"
   ]
  },
  {
   "cell_type": "code",
   "execution_count": 1,
   "id": "7417c958",
   "metadata": {},
   "outputs": [],
   "source": [
    "# Create a practice set of random latitude and longitude combinations.\n",
    "# x = [25.12903645, 25.92017388, 26.62509167, -59.98969384, 37.30571269]\n",
    "# y = [-67.59741259, 11.09532135, 74.84233102, -76.89176677, -61.13376282]\n",
    "# coordinates = zip(x, y)"
   ]
  },
  {
   "cell_type": "code",
   "execution_count": 7,
   "id": "53c1e27f",
   "metadata": {},
   "outputs": [],
   "source": [
    "# Use the tuple() function to display the latitude and longitude combinations.\n",
    "# for coordinate in coordinates:\n",
    "#     print(coordinate[0], coordinate[1])"
   ]
  },
  {
   "cell_type": "code",
   "execution_count": 8,
   "id": "818332d8",
   "metadata": {},
   "outputs": [],
   "source": [
    "coordinates = list(lat_lngs)"
   ]
  },
  {
   "cell_type": "code",
   "execution_count": 9,
   "id": "6cbcc529",
   "metadata": {},
   "outputs": [
    {
     "data": {
      "text/plain": [
       "617"
      ]
     },
     "execution_count": 9,
     "metadata": {},
     "output_type": "execute_result"
    }
   ],
   "source": [
    "city_names = []\n",
    "country_names = []\n",
    "\n",
    "for x in coordinates:\n",
    "    this_city = citipy.nearest_city(x[0], x[1]).city_name\n",
    "    this_country = citipy.nearest_city(x[0], x[1]).country_code\n",
    "    if this_city not in city_names:\n",
    "        city_names.append(this_city)\n",
    "        country_names.append(this_country)\n",
    "len(city_names)"
   ]
  },
  {
   "cell_type": "code",
   "execution_count": 1,
   "id": "096f96e4",
   "metadata": {},
   "outputs": [
    {
     "ename": "NameError",
     "evalue": "name 'weather_api_key' is not defined",
     "output_type": "error",
     "traceback": [
      "\u001b[0;31m---------------------------------------------------------------------------\u001b[0m",
      "\u001b[0;31mNameError\u001b[0m                                 Traceback (most recent call last)",
      "\u001b[0;32m/var/folders/tc/3y1yjssd6z9dxj32hm7rl_b80000gn/T/ipykernel_5157/2863845175.py\u001b[0m in \u001b[0;36m<module>\u001b[0;34m\u001b[0m\n\u001b[0;32m----> 1\u001b[0;31m \u001b[0murl\u001b[0m \u001b[0;34m=\u001b[0m \u001b[0;34mf'https://api.openweathermap.org/data/2.5/weather?units=Imperial&appid={weather_api_key}'\u001b[0m\u001b[0;34m\u001b[0m\u001b[0;34m\u001b[0m\u001b[0m\n\u001b[0m\u001b[1;32m      2\u001b[0m \u001b[0mcity_url\u001b[0m \u001b[0;34m=\u001b[0m \u001b[0murl\u001b[0m \u001b[0;34m+\u001b[0m \u001b[0;34m\"&q=\"\u001b[0m \u001b[0;34m+\u001b[0m \u001b[0;34m\"minneapolis\"\u001b[0m\u001b[0;34m\u001b[0m\u001b[0;34m\u001b[0m\u001b[0m\n",
      "\u001b[0;31mNameError\u001b[0m: name 'weather_api_key' is not defined"
     ]
    }
   ],
   "source": [
    "url = f'https://api.openweathermap.org/data/2.5/weather?units=Imperial&appid={weather_api_key}'\n",
    "city_url = url + \"&q=\" + \"minneapolis\"\n"
   ]
  },
  {
   "cell_type": "code",
   "execution_count": 46,
   "id": "b864d636",
   "metadata": {},
   "outputs": [
    {
     "name": "stdout",
     "output_type": "stream",
     "text": [
      "City Weather Found.\n"
     ]
    }
   ],
   "source": [
    "city_weather = requests.get(city_url)\n",
    "if city_weather.status_code == 200:\n",
    "    print(f'City Weather Found.')\n",
    "else:\n",
    "    print(f'City weather not found. {city_weather}')"
   ]
  },
  {
   "cell_type": "code",
   "execution_count": 47,
   "id": "98cbf6b7",
   "metadata": {},
   "outputs": [
    {
     "data": {
      "text/plain": [
       "<Response [200]>"
      ]
     },
     "execution_count": 47,
     "metadata": {},
     "output_type": "execute_result"
    }
   ],
   "source": [
    "city_weather"
   ]
  },
  {
   "cell_type": "code",
   "execution_count": 50,
   "id": "3f978ae7",
   "metadata": {},
   "outputs": [
    {
     "data": {
      "text/plain": [
       "{'coord': {'lon': -93.2638, 'lat': 44.98},\n",
       " 'weather': [{'id': 804,\n",
       "   'main': 'Clouds',\n",
       "   'description': 'overcast clouds',\n",
       "   'icon': '04n'}],\n",
       " 'base': 'stations',\n",
       " 'main': {'temp': 31.32,\n",
       "  'feels_like': 20.73,\n",
       "  'temp_min': 29.21,\n",
       "  'temp_max': 33.31,\n",
       "  'pressure': 1025,\n",
       "  'humidity': 66},\n",
       " 'visibility': 10000,\n",
       " 'wind': {'speed': 14.97, 'deg': 300},\n",
       " 'clouds': {'all': 100},\n",
       " 'dt': 1650943045,\n",
       " 'sys': {'type': 2,\n",
       "  'id': 2009535,\n",
       "  'country': 'US',\n",
       "  'sunrise': 1650885083,\n",
       "  'sunset': 1650935417},\n",
       " 'timezone': -18000,\n",
       " 'id': 5037649,\n",
       " 'name': 'Minneapolis',\n",
       " 'cod': 200}"
      ]
     },
     "execution_count": 50,
     "metadata": {},
     "output_type": "execute_result"
    }
   ],
   "source": [
    "city_url = url + \"&q=\" + \"minneapolis\"\n",
    "city_weather = requests.get(city_url)\n",
    "city_weather.json()"
   ]
  },
  {
   "cell_type": "code",
   "execution_count": 51,
   "id": "07850bde",
   "metadata": {},
   "outputs": [],
   "source": [
    "minneapolis_data = city_weather.json()"
   ]
  },
  {
   "cell_type": "code",
   "execution_count": 52,
   "id": "141e2297",
   "metadata": {},
   "outputs": [],
   "source": [
    "country = (minneapolis_data['sys']['country'])\n",
    "date = datetime.utcfromtimestamp(minneapolis_data['dt']).strftime('%y-%m-%d %H:%M:%S')\n",
    "lat = (minneapolis_data['coord']['lat'])\n",
    "lng = (minneapolis_data['coord']['lon'])\n",
    "max_temp = (minneapolis_data['main']['temp_max'])\n",
    "min_temp = (minneapolis_data['main']['temp_min'])\n",
    "humidity = (minneapolis_data['main']['humidity'])\n",
    "clouds = (minneapolis_data['clouds']['all'])\n",
    "wind = (minneapolis_data['wind']['speed'])"
   ]
  },
  {
   "cell_type": "code",
   "execution_count": 53,
   "id": "84702aa2",
   "metadata": {},
   "outputs": [
    {
     "data": {
      "text/plain": [
       "'22-04-26 03:17:25'"
      ]
     },
     "execution_count": 53,
     "metadata": {},
     "output_type": "execute_result"
    }
   ],
   "source": [
    "date = datetime.utcfromtimestamp(minneapolis_data['dt']).strftime('%y-%m-%d %H:%M:%S')\n",
    "date"
   ]
  },
  {
   "cell_type": "code",
   "execution_count": 55,
   "id": "40154e06",
   "metadata": {},
   "outputs": [
    {
     "ename": "AttributeError",
     "evalue": "'list' object has no attribute 'title'",
     "output_type": "error",
     "traceback": [
      "\u001b[0;31m---------------------------------------------------------------------------\u001b[0m",
      "\u001b[0;31mAttributeError\u001b[0m                            Traceback (most recent call last)",
      "\u001b[0;32m/var/folders/tc/3y1yjssd6z9dxj32hm7rl_b80000gn/T/ipykernel_1552/2915419205.py\u001b[0m in \u001b[0;36m<module>\u001b[0;34m\u001b[0m\n\u001b[0;32m----> 1\u001b[0;31m \u001b[0mcity_names\u001b[0m\u001b[0;34m.\u001b[0m\u001b[0mtitle\u001b[0m\u001b[0;34m(\u001b[0m\u001b[0;34m)\u001b[0m\u001b[0;34m\u001b[0m\u001b[0;34m\u001b[0m\u001b[0m\n\u001b[0m",
      "\u001b[0;31mAttributeError\u001b[0m: 'list' object has no attribute 'title'"
     ]
    }
   ],
   "source": [
    "city_names.title()"
   ]
  },
  {
   "cell_type": "code",
   "execution_count": null,
   "id": "adb88731",
   "metadata": {},
   "outputs": [],
   "source": []
  },
  {
   "cell_type": "code",
   "execution_count": null,
   "id": "cb4926bb",
   "metadata": {},
   "outputs": [],
   "source": []
  }
 ],
 "metadata": {
  "kernelspec": {
   "display_name": "PythonData",
   "language": "python",
   "name": "pythondata"
  },
  "language_info": {
   "codemirror_mode": {
    "name": "ipython",
    "version": 3
   },
   "file_extension": ".py",
   "mimetype": "text/x-python",
   "name": "python",
   "nbconvert_exporter": "python",
   "pygments_lexer": "ipython3",
   "version": "3.7.11"
  },
  "varInspector": {
   "cols": {
    "lenName": 16,
    "lenType": 16,
    "lenVar": 40
   },
   "kernels_config": {
    "python": {
     "delete_cmd_postfix": "",
     "delete_cmd_prefix": "del ",
     "library": "var_list.py",
     "varRefreshCmd": "print(var_dic_list())"
    },
    "r": {
     "delete_cmd_postfix": ") ",
     "delete_cmd_prefix": "rm(",
     "library": "var_list.r",
     "varRefreshCmd": "cat(var_dic_list()) "
    }
   },
   "types_to_exclude": [
    "module",
    "function",
    "builtin_function_or_method",
    "instance",
    "_Feature"
   ],
   "window_display": false
  }
 },
 "nbformat": 4,
 "nbformat_minor": 5
}
