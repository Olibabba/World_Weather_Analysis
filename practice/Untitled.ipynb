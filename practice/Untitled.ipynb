{
 "cells": [
  {
   "cell_type": "code",
   "execution_count": 59,
   "id": "6a92dc4e",
   "metadata": {},
   "outputs": [],
   "source": [
    "import random\n",
    "import numpy as np\n",
    "import timeit"
   ]
  },
  {
   "cell_type": "code",
   "execution_count": 13,
   "id": "f0904e16",
   "metadata": {},
   "outputs": [
    {
     "data": {
      "text/plain": [
       "82"
      ]
     },
     "execution_count": 13,
     "metadata": {},
     "output_type": "execute_result"
    }
   ],
   "source": [
    "random.randint(-90,90)"
   ]
  },
  {
   "cell_type": "code",
   "execution_count": 17,
   "id": "36621f80",
   "metadata": {},
   "outputs": [
    {
     "data": {
      "text/plain": [
       "0.5591317944125326"
      ]
     },
     "execution_count": 17,
     "metadata": {},
     "output_type": "execute_result"
    }
   ],
   "source": [
    "random.random()"
   ]
  },
  {
   "cell_type": "code",
   "execution_count": 23,
   "id": "82312a4d",
   "metadata": {},
   "outputs": [
    {
     "data": {
      "text/plain": [
       "-33.91186021287474"
      ]
     },
     "execution_count": 23,
     "metadata": {},
     "output_type": "execute_result"
    }
   ],
   "source": [
    "random_num = random.randint(-90,89) + random.random()\n",
    "random_num"
   ]
  },
  {
   "cell_type": "code",
   "execution_count": 25,
   "id": "05ca2a8d",
   "metadata": {},
   "outputs": [],
   "source": [
    "x = 1\n",
    "lats = []\n",
    "while x < 11:\n",
    "    random_num = random.randint(-90,89) + random.random()\n",
    "    lats.append(random_num)\n",
    "    x+=1"
   ]
  },
  {
   "cell_type": "code",
   "execution_count": 26,
   "id": "f889988b",
   "metadata": {},
   "outputs": [
    {
     "data": {
      "text/plain": [
       "[46.44330543733407,\n",
       " 76.30195017516454,\n",
       " -1.4663334241671895,\n",
       " 31.117275922265673,\n",
       " -51.6532698020166,\n",
       " -69.84580923887854,\n",
       " 43.44994367016246,\n",
       " 64.06924096166676,\n",
       " -24.458101788632305,\n",
       " 27.51906804271488]"
      ]
     },
     "execution_count": 26,
     "metadata": {},
     "output_type": "execute_result"
    }
   ],
   "source": [
    "lats"
   ]
  },
  {
   "cell_type": "code",
   "execution_count": 40,
   "id": "bd1e1ce5",
   "metadata": {},
   "outputs": [
    {
     "data": {
      "text/plain": [
       "35"
      ]
     },
     "execution_count": 40,
     "metadata": {},
     "output_type": "execute_result"
    }
   ],
   "source": [
    "random.randrange(-90,90, step=5)"
   ]
  },
  {
   "cell_type": "code",
   "execution_count": 45,
   "id": "fa847da1",
   "metadata": {},
   "outputs": [
    {
     "data": {
      "text/plain": [
       "-10.573747464163787"
      ]
     },
     "execution_count": 45,
     "metadata": {},
     "output_type": "execute_result"
    }
   ],
   "source": [
    "random.uniform(-90,90)"
   ]
  },
  {
   "cell_type": "code",
   "execution_count": 61,
   "id": "5251eec0",
   "metadata": {},
   "outputs": [
    {
     "name": "stdout",
     "output_type": "stream",
     "text": [
      "14.2 µs ± 218 ns per loop (mean ± std. dev. of 7 runs, 100000 loops each)\n"
     ]
    }
   ],
   "source": [
    "%timeit np.random.uniform(-90,90, size=1500)"
   ]
  },
  {
   "cell_type": "code",
   "execution_count": 63,
   "id": "3b5f1428",
   "metadata": {},
   "outputs": [
    {
     "name": "stdout",
     "output_type": "stream",
     "text": [
      "2.05 ms ± 14.4 µs per loop (mean ± std. dev. of 7 runs, 100 loops each)\n"
     ]
    }
   ],
   "source": [
    "def latitudes(size):\n",
    "    latitudes = []\n",
    "    x = 1\n",
    "    while x < (size):\n",
    "        random_lat = random.randint(-90,89) + random.random()\n",
    "        lats.append(random_lat)\n",
    "        x+=1\n",
    "    return latitudes\n",
    "%timeit latitudes(1500)"
   ]
  },
  {
   "cell_type": "code",
   "execution_count": 64,
   "id": "ef7b8073",
   "metadata": {},
   "outputs": [
    {
     "name": "stdout",
     "output_type": "stream",
     "text": [
      "2.12 ms ± 22.5 µs per loop (mean ± std. dev. of 7 runs, 100 loops each)\n"
     ]
    }
   ],
   "source": [
    "def longitudes(size):\n",
    "    longitudes = []\n",
    "    x = 1\n",
    "    while x < (size):\n",
    "        random_long = random.randint(-180,179) + random.random()\n",
    "        lats.append(random_long)\n",
    "        x+=1\n",
    "    return longitudes\n",
    "%timeit longitudes(1500)"
   ]
  },
  {
   "cell_type": "code",
   "execution_count": null,
   "id": "71de0065",
   "metadata": {},
   "outputs": [],
   "source": []
  }
 ],
 "metadata": {
  "kernelspec": {
   "display_name": "PythonData",
   "language": "python",
   "name": "pythondata"
  },
  "language_info": {
   "codemirror_mode": {
    "name": "ipython",
    "version": 3
   },
   "file_extension": ".py",
   "mimetype": "text/x-python",
   "name": "python",
   "nbconvert_exporter": "python",
   "pygments_lexer": "ipython3",
   "version": "3.7.11"
  },
  "varInspector": {
   "cols": {
    "lenName": 16,
    "lenType": 16,
    "lenVar": 40
   },
   "kernels_config": {
    "python": {
     "delete_cmd_postfix": "",
     "delete_cmd_prefix": "del ",
     "library": "var_list.py",
     "varRefreshCmd": "print(var_dic_list())"
    },
    "r": {
     "delete_cmd_postfix": ") ",
     "delete_cmd_prefix": "rm(",
     "library": "var_list.r",
     "varRefreshCmd": "cat(var_dic_list()) "
    }
   },
   "types_to_exclude": [
    "module",
    "function",
    "builtin_function_or_method",
    "instance",
    "_Feature"
   ],
   "window_display": false
  }
 },
 "nbformat": 4,
 "nbformat_minor": 5
}
